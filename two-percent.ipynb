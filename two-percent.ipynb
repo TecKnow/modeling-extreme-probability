{
 "cells": [
  {
   "cell_type": "markdown",
   "id": "d2c7360c779e703f",
   "metadata": {},
   "source": [
    "# Modeling extreme chances"
   ]
  },
  {
   "cell_type": "markdown",
   "id": "64441bd58b045b0b",
   "metadata": {},
   "source": [
    "The originating question here, if you're playing a game where you're offered a 2% chance, what is the probability of losing 600 times in a row?\n",
    "\n",
    "Normally when computing probabilities we'd look at this as the probability of not winning at least once in 600 tries.\n",
    "$$P(\\text{winning}) = p = 0.02$$\n",
    "$$P(\\text{not winning}) = P(\\text{losing})= {\\neg}p = 0.98$$\n",
    "\n",
    "Independent probabilities multiply together so the chances of not winning twice in a row would be as follows:\n",
    "\n",
    "$$P(\\text{losing twice}) = {\\neg}p^2 = 0.9604$$\n",
    "\n",
    "The probability of losing $n$ times in a row would be given by the following:\n",
    "\n",
    "$$P(\\text{losing $n$ times}) = {\\neg}p^n$$\n",
    "\n",
    "The probability  of losing 600 times in a row would therefore be calculated like this:\n",
    "\n",
    "$$P(\\text{losing 600 times}) = {\\neg}p^600 = 0.98^600 = 5.4405826910255264834083104415561140853482895765220476138082×10^{(-6)}$$"
   ]
  },
  {
   "cell_type": "markdown",
   "id": "56061a395fa093a5",
   "metadata": {},
   "source": [
    "Such tiny numbers can be difficult to understand intuitively so we should see about discovering them through simulation.\n",
    "However, such a small chance could take a long time to occur naturally in a simulation so let's test a simpler case first"
   ]
  },
  {
   "cell_type": "markdown",
   "id": "a5572e21c989906",
   "metadata": {},
   "source": [
    "## Simulating the simple case"
   ]
  },
  {
   "cell_type": "markdown",
   "id": "b67874b1-7387-4fce-9d82-2f7fdfb4f84b",
   "metadata": {},
   "source": [
    "import random\n",
    "from collections import Counter"
   ]
  },
  {
   "cell_type": "markdown",
   "id": "dc289e78-38f4-4e3a-88fa-84e1495e040f",
   "metadata": {},
   "source": [
    "First let's model this as if it were a 100 sided die.  This is a discrete distribution and may not be equivilent to a continuous distribution that most computer programs use, so we might want to check them for equivilency later."
   ]
  },
  {
   "cell_type": "code",
   "execution_count": 1,
   "id": "99a41d1d-b952-491a-be79-80d367f7f90a",
   "metadata": {},
   "outputs": [],
   "source": [
    "import random\n",
    "from time import perf_counter_ns\n",
    "from collections import Counter"
   ]
  },
  {
   "cell_type": "code",
   "execution_count": 2,
   "id": "594d5280-3af8-43a5-886b-84674dea637b",
   "metadata": {},
   "outputs": [
    {
     "name": "stdout",
     "output_type": "stream",
     "text": [
      "[(1, 10081), (2, 10033), (3, 9932), (4, 10007), (5, 10030), (6, 10127), (7, 10068), (8, 10114), (9, 9979), (10, 10081), (11, 10142), (12, 9974), (13, 9833), (14, 9911), (15, 10083), (16, 10000), (17, 9985), (18, 9897), (19, 10001), (20, 10161), (21, 9936), (22, 10122), (23, 10079), (24, 10201), (25, 9956), (26, 10064), (27, 9935), (28, 10082), (29, 10012), (30, 9883), (31, 10156), (32, 9927), (33, 10126), (34, 9914), (35, 9898), (36, 10134), (37, 10044), (38, 9915), (39, 10078), (40, 9979), (41, 10025), (42, 10042), (43, 10152), (44, 10218), (45, 10038), (46, 9989), (47, 9935), (48, 10069), (49, 9865), (50, 9960), (51, 10009), (52, 9848), (53, 10070), (54, 9915), (55, 10160), (56, 9854), (57, 10036), (58, 9904), (59, 9996), (60, 10040), (61, 10047), (62, 10010), (63, 9876), (64, 10080), (65, 9905), (66, 10061), (67, 9968), (68, 9991), (69, 9885), (70, 10072), (71, 10011), (72, 10011), (73, 9981), (74, 9992), (75, 10060), (76, 9984), (77, 10027), (78, 10100), (79, 9769), (80, 9945), (81, 9947), (82, 9915), (83, 9824), (84, 10039), (85, 10087), (86, 9907), (87, 9919), (88, 9994), (89, 10133), (90, 9954), (91, 9995), (92, 10032), (93, 9979), (94, 9957), (95, 9887), (96, 9821), (97, 9782), (98, 9958), (99, 9953), (100, 10137)]\n"
     ]
    }
   ],
   "source": [
    "d_100_rolls = Counter((random.randint(1, 100) for _ in range(1_000_000)))\n",
    "print(sorted(d_100_rolls.most_common()))"
   ]
  },
  {
   "cell_type": "markdown",
   "id": "422e4290-f1c2-4c20-985d-75f79ea925cf",
   "metadata": {},
   "source": [
    "The keys of the Counter object represent the results of the rolls, and they are the intigers 1-100.  The values are the number of times each result was rolled and they're not exactly identical but they are very similar.  This is what we'd epxect from a simulation of a 10-sided die.  So let's see how often we can roll greater than 2 - our 2% chance of winning - twice in a row out of say, 1M attempts."
   ]
  },
  {
   "cell_type": "code",
   "execution_count": 3,
   "id": "600ef198-48eb-4761-8207-a70214fcae4e",
   "metadata": {},
   "outputs": [
    {
     "name": "stdout",
     "output_type": "stream",
     "text": [
      "losses=960680 Probability of losing = 0.96068 difference between experimental and calculated results: 0.000280000000000058\n"
     ]
    }
   ],
   "source": [
    "losses = 0\n",
    "total_tries = 1_000_000\n",
    "win_value = 2\n",
    "num_rolls = 2\n",
    "\n",
    "for _ in range(total_tries):\n",
    "    for _ in range(num_rolls):\n",
    "        current_roll = random.randint(1,100)\n",
    "        if current_roll <= win_value:\n",
    "            break\n",
    "    else:\n",
    "        losses += 1\n",
    "print(f\"{losses=} Probability of losing = {(p_exp:=losses/total_tries)} difference between experimental and calculated results: {p_exp-0.98**2}\")"
   ]
  },
  {
   "cell_type": "markdown",
   "id": "2be251b8-a348-42d3-95b5-4c9cb97a2d66",
   "metadata": {},
   "source": [
    "When I run this simulation on my machine, the difference between the experimental and calculated results is about 0.0002, which is very small."
   ]
  },
  {
   "cell_type": "code",
   "execution_count": 4,
   "id": "462c0c1f-561a-430e-9d59-5a7174560541",
   "metadata": {},
   "outputs": [],
   "source": [
    "del losses\n",
    "del total_tries\n",
    "del win_value\n",
    "del num_rolls"
   ]
  },
  {
   "cell_type": "markdown",
   "id": "e93f3baa-dbdd-4d13-a5db-68a70917d822",
   "metadata": {},
   "source": [
    "## Simulating the extreme case"
   ]
  },
  {
   "cell_type": "markdown",
   "id": "b4c78b2d-c7ee-4fbf-aaf3-61a4e26058ec",
   "metadata": {},
   "source": [
    "Fist, let's see how many tries it takes to loose six hundred times in a row even once."
   ]
  },
  {
   "cell_type": "code",
   "execution_count": 5,
   "id": "0500caeb-36a8-4234-b0e5-b6ba5cba65d9",
   "metadata": {},
   "outputs": [
    {
     "name": "stdout",
     "output_type": "stream",
     "text": [
      "it took 151220 tries and 1577319300ns to lose 600 times in a row with a target number of 2 or lower on a d100\n"
     ]
    }
   ],
   "source": [
    "win_value = 2\n",
    "sides = 100\n",
    "total_tries = 0\n",
    "num_losses = 600\n",
    "finished = False\n",
    "\n",
    "start_time = perf_counter_ns()\n",
    "while not finished:\n",
    "    for _ in range(num_losses):\n",
    "        current_roll = random.randint(1, sides)\n",
    "        if current_roll <= win_value:\n",
    "            # This try ended before reaching 600 losses in a row\n",
    "            total_tries += 1\n",
    "            break\n",
    "    else:\n",
    "        # We can only get here if the for loop did not encounter a break\n",
    "        total_tries += 1 # The run where we finally lose 600 times in a row still counts.\n",
    "        break # this breaks out of the while True loop\n",
    "end_time = perf_counter_ns()\n",
    "\n",
    "print(f\"it took {total_tries} tries and {end_time-start_time}ns to lose {num_losses} times in a row with a target number of {win_value} or lower on a d{sides}\")"
   ]
  },
  {
   "cell_type": "code",
   "execution_count": 6,
   "id": "6e241050-c57c-4fd3-ae8c-2a3d5add5276",
   "metadata": {},
   "outputs": [],
   "source": [
    "del win_value\n",
    "del sides\n",
    "del total_tries\n",
    "del num_losses\n",
    "del finished"
   ]
  },
  {
   "cell_type": "markdown",
   "id": "e7b3447d-a3c8-4dce-88c3-6f184d0f6d63",
   "metadata": {},
   "source": [
    "It didn't actually take as long as I expected to reach 600 failures in a row, less than one second,so more elaborate simulations are reasonable.\n",
    "\n",
    "Let's do a probability mass function."
   ]
  },
  {
   "cell_type": "markdown",
   "id": "ffa171b0-1994-469c-bc6f-199fed7ad30a",
   "metadata": {},
   "source": [
    "## Experimental probability mass function"
   ]
  },
  {
   "cell_type": "markdown",
   "id": "1baddda5-0c68-48d3-a419-fc80df3e7968",
   "metadata": {},
   "source": [
    "A probability mass function or PMF is the probability that some discrete random variable will take on a specific value.  We can build one experimentally by first making a frequency table of many trials, and then normalizing it."
   ]
  },
  {
   "cell_type": "code",
   "execution_count": 7,
   "id": "a7f4cb66-de2a-4dbf-b307-4ba18c6c577b",
   "metadata": {},
   "outputs": [
    {
     "name": "stdout",
     "output_type": "stream",
     "text": [
      "took 109369411400ns to run 10000000 trials\n"
     ]
    }
   ],
   "source": [
    "win_value = 2\n",
    "sides = 100\n",
    "num_trials = 10_000_000\n",
    "\n",
    "freq_counter = Counter()\n",
    "\n",
    "freq_time_start = perf_counter_ns()\n",
    "for trial in range(num_trials):\n",
    "    current_trial_rolls = 1\n",
    "    while((current_roll:= random.randint(1, sides)) > win_value):\n",
    "        current_trial_rolls += 1\n",
    "    freq_counter[current_trial_rolls] += 1\n",
    "freq_time_end = perf_counter_ns()\n",
    "\n",
    "print(f\"took {freq_time_end - freq_time_start}ns to run {num_trials} trials\")"
   ]
  },
  {
   "cell_type": "code",
   "execution_count": 8,
   "id": "267f3aa9-27af-4a57-a8c8-61fbca66f926",
   "metadata": {},
   "outputs": [],
   "source": [
    "sorted_freq_items = sorted(freq_counter.items())"
   ]
  },
  {
   "cell_type": "code",
   "execution_count": 9,
   "id": "b55b0b6f-f266-4ddc-a966-51a45e7d7751",
   "metadata": {},
   "outputs": [
    {
     "name": "stdout",
     "output_type": "stream",
     "text": [
      "[(601, 3), (604, 1), (605, 3), (606, 4), (607, 3), (608, 2), (609, 1), (610, 1), (611, 1), (613, 2), (614, 1), (616, 2), (617, 3), (618, 1), (620, 2), (621, 2), (624, 3), (627, 2), (631, 2), (632, 2), (636, 1), (637, 1), (638, 1), (639, 1), (641, 2), (644, 1), (652, 1), (664, 1), (673, 1), (674, 1), (682, 1), (684, 1), (707, 1), (713, 1), (726, 1), (728, 1), (731, 1), (732, 1), (746, 1), (843, 1)]\n"
     ]
    }
   ],
   "source": [
    "print(sorted_freq_items[-40:])"
   ]
  },
  {
   "cell_type": "code",
   "execution_count": 10,
   "id": "a2f13c6e-6f6d-4b75-acb4-2ed1c538e912",
   "metadata": {},
   "outputs": [],
   "source": [
    "big_fail_freqs = [(result, freq) for (result, freq) in sorted_freq_items if result > 600]\n",
    "num_big_fail_trials = sum((freq for (result, freq) in big_fail_freqs))"
   ]
  },
  {
   "cell_type": "code",
   "execution_count": 13,
   "id": "89740469-cbb6-43b9-9fbd-d6ddf923aedf",
   "metadata": {},
   "outputs": [
    {
     "name": "stdout",
     "output_type": "stream",
     "text": [
      "The calculated probability of failing 600 times is 5.440582691025467e-06 so out of 10,000,000 trials we would expect 54.40582691025467 such events.In simulation we observed 62 for a difference of 7.594173089745333\n"
     ]
    }
   ],
   "source": [
    "print(f\"The calculated probability of failing 600 times is {(calculated_prob:=pow(0.98, 600))} so out of {num_trials:,} trials we would expect {(expected_big_fails:=calculated_prob * num_trials)} such events.\"\n",
    "      f\"In simulation we observed {num_big_fail_trials} for a difference of {num_big_fail_trials - expected_big_fails}\")"
   ]
  },
  {
   "cell_type": "code",
   "execution_count": null,
   "id": "2c9bd7c2-666e-4c7d-8552-0fcc5a6ef1d4",
   "metadata": {},
   "outputs": [],
   "source": []
  },
  {
   "cell_type": "code",
   "execution_count": null,
   "id": "5461086b-1f7d-452d-b53d-afc11c2e51dc",
   "metadata": {},
   "outputs": [],
   "source": []
  }
 ],
 "metadata": {
  "kernelspec": {
   "display_name": "Python 3 (ipykernel)",
   "language": "python",
   "name": "python3"
  },
  "language_info": {
   "codemirror_mode": {
    "name": "ipython",
    "version": 3
   },
   "file_extension": ".py",
   "mimetype": "text/x-python",
   "name": "python",
   "nbconvert_exporter": "python",
   "pygments_lexer": "ipython3",
   "version": "3.12.3"
  }
 },
 "nbformat": 4,
 "nbformat_minor": 5
}
